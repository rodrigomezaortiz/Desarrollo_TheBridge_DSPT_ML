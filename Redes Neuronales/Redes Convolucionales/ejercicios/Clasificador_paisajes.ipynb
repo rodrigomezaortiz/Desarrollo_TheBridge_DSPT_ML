{
 "cells": [
  {
   "attachments": {},
   "cell_type": "markdown",
   "metadata": {},
   "source": [
    "# Clasificador paisajes\n",
    "\n",
    "Para este ejercicio vas a crear un clasificador automático de paisajes. Los datos los encontrarás en el Classroom como `seg_train.zip` y `seg_test.zip`. Se pide:\n",
    "1. Cargar las imágenes. Mira cómo están almacenados los datos. Tendrás que recorrer las carpetas, cargar las imágenes en memoria y etiquetarlas con los nombres de las carpetas. Realiza un reshape de cada imagen (comienza el ejercicio con 32x32, para ir más rápido en las ejecuciones).\n",
    "2. Investiga las imágenes, comprueba con algunas muestras que has cargado bien los datos.\n",
    "3. Normaliza\n",
    "4. Diseña la arquitectura de la red. Recuerda que es un algoritmo de clasificación. Ojo con las dimensiones de la entrada\n",
    "5. Reserva un 20% de los datos del entrenamiento para validar.\n",
    "6. Representa el objeto history\n",
    "7. Evalúa el modelo con los datos de test\n",
    "8. Representa algunos de los paisajes donde el modelo comete errores\n",
    "9. Crea una matriz de confusión con los errores del modelo\n",
    "\n",
    "**NOTA apartado 1**: para el apartado 1 tendrás que recorre las carpetas/imágenes con `os.listdir()`, e ir cargando todas las imágenes como arrays de `numpy`\n",
    "\n",
    "**NOTA apartado 4**: empieza con un par de capas Conv2D + MaxPooling2D con activación relu y después la fully connected layer. Pon softmax como ultima capa"
   ]
  }
 ],
 "metadata": {
  "kernelspec": {
   "display_name": "Python 3.7.4 64-bit",
   "language": "python",
   "name": "python3"
  },
  "language_info": {
   "codemirror_mode": {
    "name": "ipython",
    "version": 3
   },
   "file_extension": ".py",
   "mimetype": "text/x-python",
   "name": "python",
   "nbconvert_exporter": "python",
   "pygments_lexer": "ipython3",
   "version": "3.11.9"
  },
  "orig_nbformat": 4,
  "vscode": {
   "interpreter": {
    "hash": "90139cb9a825bf3d63f6f6704e828dbd1ff7edbd4d0c6e906a71235d6efc74af"
   }
  }
 },
 "nbformat": 4,
 "nbformat_minor": 2
}

{
 "cells": [
  {
   "attachments": {},
   "cell_type": "markdown",
   "metadata": {},
   "source": [
    "# Clasificador paisajes\n",
    "Para este ejercicio vas a crear un clasificador automático de paisajes. Los datos los encontrarás en el Classroom como `seg_train.zip` y `seg_test.zip`. Se pide:\n",
    "1. Cargar las imágenes. Mira cómo están almacenados los datos. Tendrás que recorrer las carpetas, cargar las imágenes en memoria y etiquetarlas con los nombres de las carpetas. Realiza un reshape de cada imagen (comienza el ejercicio con 32x32, para ir más rápido en las ejecuciones).\n",
    "2. Investiga las imágenes, comprueba con algunas muestras que has cargado bien los datos.\n",
    "3. Normaliza\n",
    "4. Diseña la arquitectura de la red. Recuerda que es un algoritmo de clasificación. Ojo con las dimensiones de la entrada\n",
    "5. Reserva un 20% de los datos del entrenamiento para validar.\n",
    "6. Representa el objeto history\n",
    "7. Evalua el modelo con los datos de test\n",
    "8. Representa algunos de los paisajes donde el modelo comete errores\n",
    "9. Crea una matriz de confusión con los errores del modelo\n",
    "\n",
    "**NOTA apartado 1**: para el apartado 1 tendras que recorre las carpetas/imagenes con `os.listdir()`, e ir cargando todas las imagenes como arrays de numpy\n",
    "\n",
    "**NOTA apartado 4**: empieza con un par de capas Conv2D + MaxPooling2D con activación relu y después la fully connected layer. on softmax como ultima capa"
   ]
  }
 ],
 "metadata": {
  "kernelspec": {
   "display_name": "Python 3.7.4 64-bit",
   "language": "python",
   "name": "python3"
  },
  "language_info": {
   "codemirror_mode": {
    "name": "ipython",
    "version": 3
   },
   "file_extension": ".py",
   "mimetype": "text/x-python",
   "name": "python",
   "nbconvert_exporter": "python",
   "pygments_lexer": "ipython3",
   "version": "3.11.9"
  },
  "orig_nbformat": 4,
  "vscode": {
   "interpreter": {
    "hash": "90139cb9a825bf3d63f6f6704e828dbd1ff7edbd4d0c6e906a71235d6efc74af"
   }
  }
 },
 "nbformat": 4,
 "nbformat_minor": 2
}
